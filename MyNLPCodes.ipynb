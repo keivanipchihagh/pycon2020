{
 "cells": [
  {
   "cell_type": "markdown",
   "id": "stone-scene",
   "metadata": {},
   "source": [
    "# Natural Language Processing (NLP) in Python - From Zero to Hero"
   ]
  },
  {
   "cell_type": "markdown",
   "id": "extensive-grant",
   "metadata": {},
   "source": [
    "## Imports"
   ]
  },
  {
   "cell_type": "code",
   "execution_count": 32,
   "id": "conceptual-unemployment",
   "metadata": {},
   "outputs": [],
   "source": [
    "import numpy as np\n",
    "import pandas as pd\n",
    "import matplotlib.pyplot as plt\n",
    "import seaborn as sns\n",
    "import spacy\n",
    "import re\n",
    "\n",
    "# Sk-lean libraries\n",
    "from sklearn.feature_extraction.text import CountVectorizer\n",
    "from sklearn.svm import SVC"
   ]
  },
  {
   "cell_type": "markdown",
   "id": "played-equation",
   "metadata": {},
   "source": [
    "## Bag of Words"
   ]
  },
  {
   "cell_type": "code",
   "execution_count": 2,
   "id": "cooked-gambling",
   "metadata": {},
   "outputs": [],
   "source": [
    "class Category:\n",
    "    BOOKS = 'BOOKS'\n",
    "    CLOTHING = 'CLOTHING'\n",
    "\n",
    "train_x = [\n",
    "    'i love the book',\n",
    "    'this is a great book',\n",
    "    'the fit is great',\n",
    "    'i love the shoes'\n",
    "]\n",
    "\n",
    "train_y = [\n",
    "    Category.BOOKS,\n",
    "    Category.BOOKS,\n",
    "    Category.CLOTHING,\n",
    "    Category.CLOTHING,\n",
    "]"
   ]
  },
  {
   "cell_type": "code",
   "execution_count": 7,
   "id": "catholic-latter",
   "metadata": {},
   "outputs": [
    {
     "name": "stdout",
     "output_type": "stream",
     "text": [
      "['book', 'fit', 'great', 'is', 'love', 'shoes', 'the', 'this']\n",
      "[[1 0 0 0 1 0 1 0]\n",
      " [1 0 1 1 0 0 0 1]\n",
      " [0 1 1 1 0 0 1 0]\n",
      " [0 0 0 0 1 1 1 0]]\n"
     ]
    }
   ],
   "source": [
    "vectorizer = CountVectorizer(binary = True)\n",
    "train_x_vectors = vectorizer.fit_transform(train_x)\n",
    "\n",
    "# Vectorizer Data\n",
    "print(vectorizer.get_feature_names())\n",
    "print(train_x_vectors.toarray())"
   ]
  },
  {
   "cell_type": "code",
   "execution_count": 8,
   "id": "shared-antarctica",
   "metadata": {},
   "outputs": [
    {
     "data": {
      "text/plain": [
       "array(['BOOKS'], dtype='<U8')"
      ]
     },
     "execution_count": 8,
     "metadata": {},
     "output_type": "execute_result"
    }
   ],
   "source": [
    "# Training the model\n",
    "\n",
    "clf_svc = SVC(kernel = 'linear')\n",
    "clf_svc.fit(train_x_vectors, train_y)\n",
    "\n",
    "test_x_vectors = vectorizer.transform(['i like the book'])\n",
    "\n",
    "clf_svc.predict(test_x_vectors)"
   ]
  },
  {
   "cell_type": "markdown",
   "id": "productive-green",
   "metadata": {},
   "source": [
    "## Word Vector"
   ]
  },
  {
   "cell_type": "code",
   "execution_count": 10,
   "id": "laden-tender",
   "metadata": {},
   "outputs": [],
   "source": [
    "nlp = spacy.load('en_core_web_md')"
   ]
  },
  {
   "cell_type": "code",
   "execution_count": 18,
   "id": "daily-halloween",
   "metadata": {},
   "outputs": [
    {
     "name": "stdout",
     "output_type": "stream",
     "text": [
      "['i love the book', 'this is a great book', 'the fit is great', 'i love the shoes']\n"
     ]
    }
   ],
   "source": [
    "print(train_x)\n",
    "docs = [nlp(text) for text in train_x]"
   ]
  },
  {
   "cell_type": "code",
   "execution_count": 19,
   "id": "incorrect-angle",
   "metadata": {
    "scrolled": true
   },
   "outputs": [
    {
     "data": {
      "text/plain": [
       "array([ 0.08563001,  0.313255  , -0.2392405 , -0.17215225,  0.1418515 ,\n",
       "        0.1970548 ,  0.04868999, -0.12744625,  0.05947001,  2.1347    ,\n",
       "       -0.61964   ,  0.01162549,  0.29980502, -0.125354  ,  0.017935  ,\n",
       "       -0.1355105 , -0.27094752,  1.1129825 , -0.16986902, -0.0266875 ,\n",
       "        0.14768225, -0.16372526,  0.121907  , -0.06876825, -0.061945  ,\n",
       "        0.08704174, -0.2005705 , -0.24039775, -0.0675595 ,  0.0926495 ,\n",
       "       -0.13526568,  0.24121101, -0.20299   ,  0.30007   ,  0.11574501,\n",
       "        0.055062  ,  0.013516  , -0.0664179 , -0.3380587 , -0.17823698,\n",
       "       -0.01039225,  0.03333575, -0.10241525, -0.093445  ,  0.09327275,\n",
       "        0.20661727, -0.15074751,  0.14018372,  0.23520125, -0.05192125,\n",
       "       -0.0999365 , -0.1212635 , -0.05895525, -0.005062  ,  0.06003174,\n",
       "        0.01213001, -0.11257375, -0.24570274,  0.00678   , -0.1888345 ,\n",
       "       -0.09276348, -0.25614128, -0.20717824,  0.0858725 , -0.02215025,\n",
       "       -0.303222  , -0.00274375,  0.11888   ,  0.02695867,  0.20738849,\n",
       "        0.02140525, -0.0175935 ,  0.1513575 , -0.0032025 ,  0.20425075,\n",
       "        0.16609626, -0.084585  , -0.0744465 , -0.1083965 ,  0.14420825,\n",
       "        0.13595775,  0.2158625 ,  0.15477975, -0.04820438,  0.23010999,\n",
       "       -0.2999731 , -0.126152  , -0.42502826,  0.17733926,  0.08174075,\n",
       "       -0.26656875, -0.101404  , -0.253544  ,  0.05471925,  0.2847125 ,\n",
       "        0.09851776,  0.204341  ,  0.16268425, -0.042765  , -0.1949425 ,\n",
       "        0.10958   , -0.3648075 , -0.09682125, -0.11094925,  0.12445608,\n",
       "       -0.359581  ,  0.15130275,  0.06853426, -0.109819  , -0.21615925,\n",
       "        0.0958285 , -0.00383826,  0.26055914, -0.35583502,  0.0842915 ,\n",
       "       -0.14935926, -0.1996505 ,  0.23104301, -0.0077375 , -0.06271806,\n",
       "        0.17203225, -0.181445  ,  0.03677999,  0.09908225,  0.2382695 ,\n",
       "        0.4065215 , -0.0908625 , -0.15399225,  0.08435975, -0.053317  ,\n",
       "       -0.20035249, -0.163792  , -0.271757  ,  0.01030713,  0.03340515,\n",
       "        0.0497255 , -0.13881615,  0.084502  , -0.053755  , -0.31270498,\n",
       "       -2.257525  , -0.1419485 ,  0.14178   ,  0.08852901, -0.17659001,\n",
       "       -0.13609049, -0.04871   ,  0.09790501, -0.08347125, -0.20770678,\n",
       "       -0.04589   ,  0.13999274,  0.16002081,  0.0629995 ,  0.0256235 ,\n",
       "       -0.04082   , -0.15203801, -0.1771985 , -0.217835  , -0.039533  ,\n",
       "        0.089236  ,  0.18021   ,  0.015082  ,  0.03417152, -0.07016499,\n",
       "       -0.13753426,  0.035425  , -0.19859773,  0.1456615 ,  0.09975475,\n",
       "       -0.100101  , -0.0668525 ,  0.22425   , -0.452075  ,  0.11908074,\n",
       "        0.05990475, -0.0488925 ,  0.1621385 , -0.101395  , -0.1326985 ,\n",
       "        0.069592  , -0.16106975, -0.1380995 , -0.22239   ,  0.05668125,\n",
       "       -0.0171395 , -0.29649   , -0.3353225 ,  0.06168649,  0.09971251,\n",
       "       -0.15555725, -0.09166402, -0.282595  , -0.16052501, -0.02805945,\n",
       "        0.15195748,  0.07515249, -0.27176827,  0.05228776,  0.00373   ,\n",
       "       -0.130024  , -0.22874999, -0.07862875, -0.0399495 ,  0.264615  ,\n",
       "        0.098764  ,  0.0206625 ,  0.05326832, -0.1118725 ,  0.10922225,\n",
       "        0.00446974,  0.115469  , -0.17844   , -0.38571697,  0.0452885 ,\n",
       "        0.24619749, -0.008345  , -0.2139215 , -0.0598165 ,  0.1438475 ,\n",
       "        0.1524835 , -0.08872448,  0.07794543, -0.01462124, -0.273732  ,\n",
       "       -0.07258825,  0.1016425 ,  0.16666101,  0.0239075 ,  0.03709501,\n",
       "       -0.267228  ,  0.0838585 , -0.10917226,  0.07474675, -0.2799775 ,\n",
       "       -0.23018251, -0.15760949, -0.02298325, -0.16043949,  0.22297475,\n",
       "        0.04065251,  0.11423799, -0.095754  ,  0.207424  ,  0.12350225,\n",
       "       -0.21028924, -0.09836699,  0.024505  , -0.1130115 ,  0.01491502,\n",
       "        0.18254225, -0.309755  , -0.13121249, -0.008149  ,  0.17937374,\n",
       "        0.1328375 ,  0.13090524, -0.09056126, -0.17138   , -0.12233325,\n",
       "        0.12965076,  0.020424  ,  0.05174625,  0.22267   ,  0.26246977,\n",
       "       -0.215415  ,  0.13679275,  0.2902495 ,  0.25620502,  0.0093    ,\n",
       "       -0.22721347, -0.26039124, -0.36055002,  0.01478199,  0.0270805 ,\n",
       "        0.03114517, -0.24702299, -0.02437525, -0.03598415,  0.22466755,\n",
       "        0.0266175 , -0.08971775, -0.14917499, -0.30266726, -0.05662975,\n",
       "        0.0756845 ,  0.35060728,  0.1437245 , -0.0064325 , -0.15310623,\n",
       "       -0.1476075 ,  0.09711101, -0.09789225, -0.06524446,  0.32439575,\n",
       "       -0.06215625,  0.20532525, -0.040052  ,  0.0630795 ,  0.14291999],\n",
       "      dtype=float32)"
      ]
     },
     "execution_count": 19,
     "metadata": {},
     "output_type": "execute_result"
    }
   ],
   "source": [
    "docs[0].vector"
   ]
  },
  {
   "cell_type": "code",
   "execution_count": 31,
   "id": "facial-novelty",
   "metadata": {},
   "outputs": [
    {
     "data": {
      "text/plain": [
       "array(['BOOKS', 'BOOKS', 'CLOTHING', 'CLOTHING'], dtype='<U8')"
      ]
     },
     "execution_count": 31,
     "metadata": {},
     "output_type": "execute_result"
    }
   ],
   "source": [
    "# Training the model\n",
    "\n",
    "train_x_wv = [x.vector for x in docs]\n",
    "\n",
    "clf_svc_wv = SVC(kernel = 'linear')\n",
    "clf_svc_wv.fit(train_x_wv, train_y)\n",
    "\n",
    "test_x = ['i love the books', 'i love the story', 'i love the hats', 'these earings hurt']\n",
    "test_x_docs = [nlp(text) for text in test_x]\n",
    "test_x_vw = [x.vector for x in test_x_docs]\n",
    "\n",
    "clf_svc_wv.predict(test_x_vw)"
   ]
  },
  {
   "cell_type": "markdown",
   "id": "sunrise-metadata",
   "metadata": {},
   "source": [
    "## Regex"
   ]
  },
  {
   "cell_type": "code",
   "execution_count": 54,
   "id": "instant-variety",
   "metadata": {},
   "outputs": [
    {
     "data": {
      "text/plain": [
       "['abcd', 'aa abxxxcd ccc']"
      ]
     },
     "execution_count": 54,
     "metadata": {},
     "output_type": "execute_result"
    }
   ],
   "source": [
    "regex = re.compile(r'ab[^\\s]*cd')\n",
    "\n",
    "phrases = ['abcd', 'xxx', 'aa abxxxcd ccc', 'ab x x xxcd']\n",
    "\n",
    "matches = []\n",
    "for phrase in phrases:\n",
    "    if re.search(regex, phrase):\n",
    "        matches.append(phrase)\n",
    "        \n",
    "matches"
   ]
  },
  {
   "cell_type": "code",
   "execution_count": null,
   "id": "backed-senator",
   "metadata": {},
   "outputs": [],
   "source": []
  },
  {
   "cell_type": "code",
   "execution_count": null,
   "id": "liable-documentary",
   "metadata": {},
   "outputs": [],
   "source": []
  },
  {
   "cell_type": "code",
   "execution_count": null,
   "id": "hidden-friday",
   "metadata": {},
   "outputs": [],
   "source": []
  },
  {
   "cell_type": "code",
   "execution_count": null,
   "id": "loved-recall",
   "metadata": {},
   "outputs": [],
   "source": []
  }
 ],
 "metadata": {
  "kernelspec": {
   "display_name": "Python 3",
   "language": "python",
   "name": "python3"
  },
  "language_info": {
   "codemirror_mode": {
    "name": "ipython",
    "version": 3
   },
   "file_extension": ".py",
   "mimetype": "text/x-python",
   "name": "python",
   "nbconvert_exporter": "python",
   "pygments_lexer": "ipython3",
   "version": "3.8.7"
  },
  "toc-autonumbering": true
 },
 "nbformat": 4,
 "nbformat_minor": 5
}
